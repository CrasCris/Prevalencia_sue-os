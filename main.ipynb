{
 "cells": [
  {
   "cell_type": "code",
   "execution_count": 1,
   "id": "38b21537",
   "metadata": {},
   "outputs": [],
   "source": [
    "import pandas as pd\n",
    "import numpy as np\n",
    "\n",
    "\n",
    "\n",
    "def load_data():\n",
    "    \n",
    "    df_np = pd.read_excel(\"base_pediatria.xlsx\", sheet_name=\"NP--PACIENTES\", engine=\"openpyxl\")\n",
    "\n",
    "    df_sl = pd.read_excel(\"base_pediatria.xlsx\", sheet_name=\"SL-PACIENTES \", engine=\"openpyxl\")\n",
    "\n",
    "\n",
    "    return df_np, df_sl\n",
    "\n",
    "df_np, df_sl = load_data()\n",
    "\n"
   ]
  },
  {
   "cell_type": "code",
   "execution_count": 2,
   "id": "e526079c",
   "metadata": {},
   "outputs": [
    {
     "name": "stdout",
     "output_type": "stream",
     "text": [
      "<class 'pandas.core.frame.DataFrame'>\n",
      "RangeIndex: 842 entries, 0 to 841\n",
      "Data columns (total 20 columns):\n",
      " #   Column                 Non-Null Count  Dtype \n",
      "---  ------                 --------------  ----- \n",
      " 0   registro               842 non-null    int64 \n",
      " 1   nombre                 842 non-null    object\n",
      " 2   nombre2                832 non-null    object\n",
      " 3   primer_apellido        842 non-null    object\n",
      " 4   segundo_apellido       842 non-null    object\n",
      " 5   fecha_nacimiento       842 non-null    object\n",
      " 6   sexo                   842 non-null    object\n",
      " 7   nombre_unidad          842 non-null    object\n",
      " 8   fecha_atencion         842 non-null    object\n",
      " 9   descripcion            842 non-null    object\n",
      " 10  edad_completa          842 non-null    object\n",
      " 11  anios                  842 non-null    int64 \n",
      " 12  meses                  842 non-null    int64 \n",
      " 13  dias                   842 non-null    int64 \n",
      " 14  diagnostico            842 non-null    object\n",
      " 15  descripcion.1          842 non-null    object\n",
      " 16  tipo_diagnostico_rips  842 non-null    object\n",
      " 17  descripcion_tipo       842 non-null    object\n",
      " 18  especialista           842 non-null    object\n",
      " 19  especialidad           842 non-null    int64 \n",
      "dtypes: int64(5), object(15)\n",
      "memory usage: 131.7+ KB\n"
     ]
    }
   ],
   "source": [
    "df_sl.info()"
   ]
  },
  {
   "cell_type": "code",
   "execution_count": 18,
   "id": "3881867d",
   "metadata": {},
   "outputs": [
    {
     "data": {
      "text/html": [
       "<div>\n",
       "<style scoped>\n",
       "    .dataframe tbody tr th:only-of-type {\n",
       "        vertical-align: middle;\n",
       "    }\n",
       "\n",
       "    .dataframe tbody tr th {\n",
       "        vertical-align: top;\n",
       "    }\n",
       "\n",
       "    .dataframe thead th {\n",
       "        text-align: right;\n",
       "    }\n",
       "</style>\n",
       "<table border=\"1\" class=\"dataframe\">\n",
       "  <thead>\n",
       "    <tr style=\"text-align: right;\">\n",
       "      <th></th>\n",
       "      <th>registro</th>\n",
       "      <th>nombre</th>\n",
       "      <th>nombre2</th>\n",
       "      <th>primer_apellido</th>\n",
       "      <th>segundo_apellido</th>\n",
       "      <th>fecha_nacimiento</th>\n",
       "      <th>sexo</th>\n",
       "      <th>nombre_unidad</th>\n",
       "      <th>fecha_atencion</th>\n",
       "      <th>descripcion</th>\n",
       "      <th>edad_completa</th>\n",
       "      <th>anios</th>\n",
       "      <th>meses</th>\n",
       "      <th>dias</th>\n",
       "      <th>diagnostico</th>\n",
       "      <th>descripcion.1</th>\n",
       "      <th>tipo_diagnostico_rips</th>\n",
       "      <th>descripcion_tipo</th>\n",
       "      <th>especialista</th>\n",
       "      <th>especialidad</th>\n",
       "    </tr>\n",
       "  </thead>\n",
       "  <tbody>\n",
       "    <tr>\n",
       "      <th>0</th>\n",
       "      <td>2847548</td>\n",
       "      <td>JHON</td>\n",
       "      <td>EDUAR</td>\n",
       "      <td>PEREZ</td>\n",
       "      <td>MUÑOZ</td>\n",
       "      <td>06/10/2016 00:00:00</td>\n",
       "      <td>M</td>\n",
       "      <td>CONSULTA EXTERNA PISO 3 SEDE 2</td>\n",
       "      <td>20/11/2024 00:00:00</td>\n",
       "      <td>C EXTERNA NEUROLOGIA PEDIATRIC</td>\n",
       "      <td>8 years 1 mon 14 days</td>\n",
       "      <td>8</td>\n",
       "      <td>1</td>\n",
       "      <td>14</td>\n",
       "      <td>F900</td>\n",
       "      <td>PERTURBACION DE LA ACTIVIDAD Y DE LA ATENCION</td>\n",
       "      <td>I</td>\n",
       "      <td>PRINCIPAL</td>\n",
       "      <td>DUARTE MORENO MARVID SOL</td>\n",
       "      <td>442</td>\n",
       "    </tr>\n",
       "    <tr>\n",
       "      <th>1</th>\n",
       "      <td>2847468</td>\n",
       "      <td>ANDREY</td>\n",
       "      <td>D  ALESSANDRO</td>\n",
       "      <td>MENDEZ</td>\n",
       "      <td>SANABRIA</td>\n",
       "      <td>06/06/2008 00:00:00</td>\n",
       "      <td>M</td>\n",
       "      <td>CONSULTA EXTERNA PISO 3 SEDE 2</td>\n",
       "      <td>20/11/2024 00:00:00</td>\n",
       "      <td>C EXTERNA NEUROLOGIA PEDIATRIC</td>\n",
       "      <td>16 years 5 mons 14 days</td>\n",
       "      <td>16</td>\n",
       "      <td>5</td>\n",
       "      <td>14</td>\n",
       "      <td>F840</td>\n",
       "      <td>AUTISMO EN LA NIÑEZ</td>\n",
       "      <td>I</td>\n",
       "      <td>PRINCIPAL</td>\n",
       "      <td>DUARTE MORENO MARVID SOL</td>\n",
       "      <td>442</td>\n",
       "    </tr>\n",
       "    <tr>\n",
       "      <th>2</th>\n",
       "      <td>2847587</td>\n",
       "      <td>EMANUEL</td>\n",
       "      <td></td>\n",
       "      <td>TORRES</td>\n",
       "      <td>QUIROGA</td>\n",
       "      <td>04/10/2018 00:00:00</td>\n",
       "      <td>M</td>\n",
       "      <td>CONSULTA EXTERNA PISO 3 SEDE 2</td>\n",
       "      <td>20/11/2024 00:00:00</td>\n",
       "      <td>C EXTERNA NEUROLOGIA PEDIATRIC</td>\n",
       "      <td>6 years 1 mon 16 days</td>\n",
       "      <td>6</td>\n",
       "      <td>1</td>\n",
       "      <td>16</td>\n",
       "      <td>F840</td>\n",
       "      <td>AUTISMO EN LA NIÑEZ</td>\n",
       "      <td>I</td>\n",
       "      <td>PRINCIPAL</td>\n",
       "      <td>DUARTE MORENO MARVID SOL</td>\n",
       "      <td>442</td>\n",
       "    </tr>\n",
       "    <tr>\n",
       "      <th>3</th>\n",
       "      <td>2847692</td>\n",
       "      <td>LUCIANA</td>\n",
       "      <td></td>\n",
       "      <td>GUTIERREZ</td>\n",
       "      <td>NAVAS</td>\n",
       "      <td>18/02/2020 00:00:00</td>\n",
       "      <td>F</td>\n",
       "      <td>CONSULTA EXTERNA PISO 3 SEDE 2</td>\n",
       "      <td>20/11/2024 00:00:00</td>\n",
       "      <td>C EXTERNA NEUROLOGIA PEDIATRIC</td>\n",
       "      <td>4 years 9 mons 2 days</td>\n",
       "      <td>4</td>\n",
       "      <td>9</td>\n",
       "      <td>2</td>\n",
       "      <td>F840</td>\n",
       "      <td>AUTISMO EN LA NIÑEZ</td>\n",
       "      <td>I</td>\n",
       "      <td>PRINCIPAL</td>\n",
       "      <td>DUARTE MORENO MARVID SOL</td>\n",
       "      <td>442</td>\n",
       "    </tr>\n",
       "    <tr>\n",
       "      <th>4</th>\n",
       "      <td>2847858</td>\n",
       "      <td>DYLAN</td>\n",
       "      <td>FERNEY</td>\n",
       "      <td>SANCHEZ</td>\n",
       "      <td>REALES</td>\n",
       "      <td>05/10/2020 00:00:00</td>\n",
       "      <td>M</td>\n",
       "      <td>CONSULTA EXTERNA PISO 3 SEDE 2</td>\n",
       "      <td>20/11/2024 00:00:00</td>\n",
       "      <td>C EXTERNA NEUROLOGIA PEDIATRIC</td>\n",
       "      <td>4 years 1 mon 15 days</td>\n",
       "      <td>4</td>\n",
       "      <td>1</td>\n",
       "      <td>15</td>\n",
       "      <td>F840</td>\n",
       "      <td>AUTISMO EN LA NIÑEZ</td>\n",
       "      <td>I</td>\n",
       "      <td>PRINCIPAL</td>\n",
       "      <td>DUARTE MORENO MARVID SOL</td>\n",
       "      <td>442</td>\n",
       "    </tr>\n",
       "    <tr>\n",
       "      <th>...</th>\n",
       "      <td>...</td>\n",
       "      <td>...</td>\n",
       "      <td>...</td>\n",
       "      <td>...</td>\n",
       "      <td>...</td>\n",
       "      <td>...</td>\n",
       "      <td>...</td>\n",
       "      <td>...</td>\n",
       "      <td>...</td>\n",
       "      <td>...</td>\n",
       "      <td>...</td>\n",
       "      <td>...</td>\n",
       "      <td>...</td>\n",
       "      <td>...</td>\n",
       "      <td>...</td>\n",
       "      <td>...</td>\n",
       "      <td>...</td>\n",
       "      <td>...</td>\n",
       "      <td>...</td>\n",
       "      <td>...</td>\n",
       "    </tr>\n",
       "    <tr>\n",
       "      <th>837</th>\n",
       "      <td>2813714</td>\n",
       "      <td>JUAN</td>\n",
       "      <td>PABLO</td>\n",
       "      <td>OVIEDO</td>\n",
       "      <td>ARIAS</td>\n",
       "      <td>02/05/2014 00:00:00</td>\n",
       "      <td>M</td>\n",
       "      <td>CONSULTA EXTERNA PISO 5 SEDE 1</td>\n",
       "      <td>16/09/2024 00:00:00</td>\n",
       "      <td>NOTA MEDICAS</td>\n",
       "      <td>10 years 4 mons 14 days</td>\n",
       "      <td>10</td>\n",
       "      <td>4</td>\n",
       "      <td>14</td>\n",
       "      <td>F840</td>\n",
       "      <td>AUTISMO EN LA NIÑEZ</td>\n",
       "      <td>I</td>\n",
       "      <td>PRINCIPAL</td>\n",
       "      <td>PIMIENTO SANTOS LUIS GABRIEL</td>\n",
       "      <td>514</td>\n",
       "    </tr>\n",
       "    <tr>\n",
       "      <th>838</th>\n",
       "      <td>2860104</td>\n",
       "      <td>JERONIMO</td>\n",
       "      <td>ALEJANDRO</td>\n",
       "      <td>APARICIO</td>\n",
       "      <td>FANDINO</td>\n",
       "      <td>01/11/2017 00:00:00</td>\n",
       "      <td>M</td>\n",
       "      <td>CONSULTA EXTERNA PISO 5 SEDE 1</td>\n",
       "      <td>13/12/2024 00:00:00</td>\n",
       "      <td>NOTA MEDICAS</td>\n",
       "      <td>7 years 1 mon 12 days</td>\n",
       "      <td>7</td>\n",
       "      <td>1</td>\n",
       "      <td>12</td>\n",
       "      <td>F840</td>\n",
       "      <td>AUTISMO EN LA NIÑEZ</td>\n",
       "      <td>I</td>\n",
       "      <td>PRINCIPAL</td>\n",
       "      <td>PIMIENTO SANTOS LUIS GABRIEL</td>\n",
       "      <td>514</td>\n",
       "    </tr>\n",
       "    <tr>\n",
       "      <th>839</th>\n",
       "      <td>2874083</td>\n",
       "      <td>AILEN</td>\n",
       "      <td>CAMILA</td>\n",
       "      <td>AROCHA</td>\n",
       "      <td>QUIROGA</td>\n",
       "      <td>17/06/2022 00:00:00</td>\n",
       "      <td>F</td>\n",
       "      <td>CONSULTA EXTERNA PISO 5 SEDE 1</td>\n",
       "      <td>15/01/2025 00:00:00</td>\n",
       "      <td>NOTA MEDICAS</td>\n",
       "      <td>2 years 6 mons 28 days</td>\n",
       "      <td>2</td>\n",
       "      <td>6</td>\n",
       "      <td>28</td>\n",
       "      <td>F840</td>\n",
       "      <td>AUTISMO EN LA NIÑEZ</td>\n",
       "      <td>I</td>\n",
       "      <td>PRINCIPAL</td>\n",
       "      <td>PIMIENTO SANTOS LUIS GABRIEL</td>\n",
       "      <td>514</td>\n",
       "    </tr>\n",
       "    <tr>\n",
       "      <th>840</th>\n",
       "      <td>2877850</td>\n",
       "      <td>JERONIMO</td>\n",
       "      <td></td>\n",
       "      <td>MACHADO</td>\n",
       "      <td>RUGELES</td>\n",
       "      <td>05/12/2015 00:00:00</td>\n",
       "      <td>M</td>\n",
       "      <td>CONSULTA EXTERNA PISO 5 SEDE 1</td>\n",
       "      <td>22/01/2025 00:00:00</td>\n",
       "      <td>NOTA MEDICAS</td>\n",
       "      <td>9 years 1 mon 17 days</td>\n",
       "      <td>9</td>\n",
       "      <td>1</td>\n",
       "      <td>17</td>\n",
       "      <td>F840</td>\n",
       "      <td>AUTISMO EN LA NIÑEZ</td>\n",
       "      <td>I</td>\n",
       "      <td>PRINCIPAL</td>\n",
       "      <td>PIMIENTO SANTOS LUIS GABRIEL</td>\n",
       "      <td>514</td>\n",
       "    </tr>\n",
       "    <tr>\n",
       "      <th>841</th>\n",
       "      <td>2887858</td>\n",
       "      <td>SANTIAGO</td>\n",
       "      <td></td>\n",
       "      <td>AMADO</td>\n",
       "      <td>GRATERON</td>\n",
       "      <td>04/11/2016 00:00:00</td>\n",
       "      <td>M</td>\n",
       "      <td>CONSULTA EXTERNA PISO 6 SEDE 1</td>\n",
       "      <td>11/02/2025 00:00:00</td>\n",
       "      <td>C EXTERN HEMATO-ONCOLOGIA PED.</td>\n",
       "      <td>8 years 3 mons 7 days</td>\n",
       "      <td>8</td>\n",
       "      <td>3</td>\n",
       "      <td>7</td>\n",
       "      <td>F840</td>\n",
       "      <td>AUTISMO EN LA NIÑEZ</td>\n",
       "      <td>I</td>\n",
       "      <td>PRINCIPAL</td>\n",
       "      <td>ESTUPIÑAN PERICO DIEGO IVAN</td>\n",
       "      <td>490</td>\n",
       "    </tr>\n",
       "  </tbody>\n",
       "</table>\n",
       "<p>842 rows × 20 columns</p>\n",
       "</div>"
      ],
      "text/plain": [
       "     registro    nombre        nombre2 primer_apellido segundo_apellido  \\\n",
       "0     2847548      JHON          EDUAR           PEREZ            MUÑOZ   \n",
       "1     2847468    ANDREY  D  ALESSANDRO          MENDEZ         SANABRIA   \n",
       "2     2847587   EMANUEL                         TORRES          QUIROGA   \n",
       "3     2847692   LUCIANA                      GUTIERREZ            NAVAS   \n",
       "4     2847858     DYLAN         FERNEY         SANCHEZ           REALES   \n",
       "..        ...       ...            ...             ...              ...   \n",
       "837   2813714      JUAN          PABLO          OVIEDO            ARIAS   \n",
       "838   2860104  JERONIMO      ALEJANDRO        APARICIO          FANDINO   \n",
       "839   2874083     AILEN         CAMILA          AROCHA          QUIROGA   \n",
       "840   2877850  JERONIMO                        MACHADO          RUGELES   \n",
       "841   2887858  SANTIAGO                          AMADO         GRATERON   \n",
       "\n",
       "        fecha_nacimiento sexo                   nombre_unidad  \\\n",
       "0    06/10/2016 00:00:00    M  CONSULTA EXTERNA PISO 3 SEDE 2   \n",
       "1    06/06/2008 00:00:00    M  CONSULTA EXTERNA PISO 3 SEDE 2   \n",
       "2    04/10/2018 00:00:00    M  CONSULTA EXTERNA PISO 3 SEDE 2   \n",
       "3    18/02/2020 00:00:00    F  CONSULTA EXTERNA PISO 3 SEDE 2   \n",
       "4    05/10/2020 00:00:00    M  CONSULTA EXTERNA PISO 3 SEDE 2   \n",
       "..                   ...  ...                             ...   \n",
       "837  02/05/2014 00:00:00    M  CONSULTA EXTERNA PISO 5 SEDE 1   \n",
       "838  01/11/2017 00:00:00    M  CONSULTA EXTERNA PISO 5 SEDE 1   \n",
       "839  17/06/2022 00:00:00    F  CONSULTA EXTERNA PISO 5 SEDE 1   \n",
       "840  05/12/2015 00:00:00    M  CONSULTA EXTERNA PISO 5 SEDE 1   \n",
       "841  04/11/2016 00:00:00    M  CONSULTA EXTERNA PISO 6 SEDE 1   \n",
       "\n",
       "          fecha_atencion                     descripcion  \\\n",
       "0    20/11/2024 00:00:00  C EXTERNA NEUROLOGIA PEDIATRIC   \n",
       "1    20/11/2024 00:00:00  C EXTERNA NEUROLOGIA PEDIATRIC   \n",
       "2    20/11/2024 00:00:00  C EXTERNA NEUROLOGIA PEDIATRIC   \n",
       "3    20/11/2024 00:00:00  C EXTERNA NEUROLOGIA PEDIATRIC   \n",
       "4    20/11/2024 00:00:00  C EXTERNA NEUROLOGIA PEDIATRIC   \n",
       "..                   ...                             ...   \n",
       "837  16/09/2024 00:00:00                   NOTA MEDICAS    \n",
       "838  13/12/2024 00:00:00                   NOTA MEDICAS    \n",
       "839  15/01/2025 00:00:00                   NOTA MEDICAS    \n",
       "840  22/01/2025 00:00:00                   NOTA MEDICAS    \n",
       "841  11/02/2025 00:00:00  C EXTERN HEMATO-ONCOLOGIA PED.   \n",
       "\n",
       "               edad_completa  anios  meses  dias diagnostico  \\\n",
       "0      8 years 1 mon 14 days      8      1    14        F900   \n",
       "1    16 years 5 mons 14 days     16      5    14        F840   \n",
       "2      6 years 1 mon 16 days      6      1    16        F840   \n",
       "3      4 years 9 mons 2 days      4      9     2        F840   \n",
       "4      4 years 1 mon 15 days      4      1    15        F840   \n",
       "..                       ...    ...    ...   ...         ...   \n",
       "837  10 years 4 mons 14 days     10      4    14        F840   \n",
       "838    7 years 1 mon 12 days      7      1    12        F840   \n",
       "839   2 years 6 mons 28 days      2      6    28        F840   \n",
       "840    9 years 1 mon 17 days      9      1    17        F840   \n",
       "841    8 years 3 mons 7 days      8      3     7        F840   \n",
       "\n",
       "                                     descripcion.1 tipo_diagnostico_rips  \\\n",
       "0    PERTURBACION DE LA ACTIVIDAD Y DE LA ATENCION                     I   \n",
       "1                              AUTISMO EN LA NIÑEZ                     I   \n",
       "2                              AUTISMO EN LA NIÑEZ                     I   \n",
       "3                              AUTISMO EN LA NIÑEZ                     I   \n",
       "4                              AUTISMO EN LA NIÑEZ                     I   \n",
       "..                                             ...                   ...   \n",
       "837                            AUTISMO EN LA NIÑEZ                     I   \n",
       "838                            AUTISMO EN LA NIÑEZ                     I   \n",
       "839                            AUTISMO EN LA NIÑEZ                     I   \n",
       "840                            AUTISMO EN LA NIÑEZ                     I   \n",
       "841                            AUTISMO EN LA NIÑEZ                     I   \n",
       "\n",
       "    descripcion_tipo                  especialista  especialidad  \n",
       "0          PRINCIPAL      DUARTE MORENO MARVID SOL           442  \n",
       "1          PRINCIPAL      DUARTE MORENO MARVID SOL           442  \n",
       "2          PRINCIPAL      DUARTE MORENO MARVID SOL           442  \n",
       "3          PRINCIPAL      DUARTE MORENO MARVID SOL           442  \n",
       "4          PRINCIPAL      DUARTE MORENO MARVID SOL           442  \n",
       "..               ...                           ...           ...  \n",
       "837        PRINCIPAL  PIMIENTO SANTOS LUIS GABRIEL           514  \n",
       "838        PRINCIPAL  PIMIENTO SANTOS LUIS GABRIEL           514  \n",
       "839        PRINCIPAL  PIMIENTO SANTOS LUIS GABRIEL           514  \n",
       "840        PRINCIPAL  PIMIENTO SANTOS LUIS GABRIEL           514  \n",
       "841        PRINCIPAL   ESTUPIÑAN PERICO DIEGO IVAN           490  \n",
       "\n",
       "[842 rows x 20 columns]"
      ]
     },
     "execution_count": 18,
     "metadata": {},
     "output_type": "execute_result"
    }
   ],
   "source": [
    "df_sl"
   ]
  },
  {
   "cell_type": "code",
   "execution_count": 10,
   "id": "77f30338",
   "metadata": {},
   "outputs": [
    {
     "data": {
      "text/plain": [
       "<Axes: xlabel='anios'>"
      ]
     },
     "execution_count": 10,
     "metadata": {},
     "output_type": "execute_result"
    },
    {
     "data": {
      "image/png": "[encoded data removed]",
      "text/plain": [
       "<Figure size 640x480 with 1 Axes>"
      ]
     },
     "metadata": {},
     "output_type": "display_data"
    }
   ],
   "source": [
    "edad_sl = df_sl['anios'].value_counts().sort_index()\n",
    "edad_sl.plot(kind='bar')"
   ]
  },
  {
   "cell_type": "code",
   "execution_count": 20,
   "id": "8aace26d",
   "metadata": {},
   "outputs": [
    {
     "data": {
      "text/plain": [
       "<Axes: xlabel='EDAD'>"
      ]
     },
     "execution_count": 20,
     "metadata": {},
     "output_type": "execute_result"
    },
    {
     "data": {
      "image/png": "[encoded data removed]",
      "text/plain": [
       "<Figure size 640x480 with 1 Axes>"
      ]
     },
     "metadata": {},
     "output_type": "display_data"
    }
   ],
   "source": [
    "edad_np = df_np['EDAD'].value_counts().sort_index()\n",
    "edad_np.plot(kind='bar')"
   ]
  },
  {
   "cell_type": "code",
   "execution_count": 24,
   "id": "e0a21535",
   "metadata": {},
   "outputs": [],
   "source": [
    "df_sl[\"NOMBRE_COM\"] = (\n",
    "    df_sl[\"nombre\"].fillna(\"\") + \" \" +\n",
    "    df_sl[\"nombre2\"].fillna(\"\") + \" \" +\n",
    "    df_sl[\"primer_apellido\"].fillna(\"\") + \" \" +\n",
    "    df_sl[\"segundo_apellido\"].fillna(\"\")\n",
    ").str.replace(r\"\\s+\", \" \", regex=True).str.strip()\n"
   ]
  },
  {
   "cell_type": "code",
   "execution_count": 37,
   "id": "6dddcb84",
   "metadata": {},
   "outputs": [
    {
     "data": {
      "text/plain": [
       "842"
      ]
     },
     "execution_count": 37,
     "metadata": {},
     "output_type": "execute_result"
    }
   ],
   "source": [
    "len(df_sl)"
   ]
  },
  {
   "cell_type": "code",
   "execution_count": 35,
   "id": "e80256cf",
   "metadata": {},
   "outputs": [
    {
     "data": {
      "text/plain": [
       "578"
      ]
     },
     "execution_count": 35,
     "metadata": {},
     "output_type": "execute_result"
    }
   ],
   "source": [
    "len(df_sl[\"NOMBRE_COM\"].unique())"
   ]
  },
  {
   "cell_type": "code",
   "execution_count": 38,
   "id": "8526fe57",
   "metadata": {},
   "outputs": [
    {
     "data": {
      "text/plain": [
       "-264"
      ]
     },
     "execution_count": 38,
     "metadata": {},
     "output_type": "execute_result"
    }
   ],
   "source": [
    "578-842"
   ]
  },
  {
   "cell_type": "code",
   "execution_count": 39,
   "id": "2ef303dc",
   "metadata": {},
   "outputs": [
    {
     "data": {
      "text/plain": [
       "832"
      ]
     },
     "execution_count": 39,
     "metadata": {},
     "output_type": "execute_result"
    }
   ],
   "source": [
    "len(df_np[\"NOMBRE_COM\"].unique())"
   ]
  },
  {
   "cell_type": "code",
   "execution_count": 40,
   "id": "e8a3841a",
   "metadata": {},
   "outputs": [
    {
     "data": {
      "text/plain": [
       "832"
      ]
     },
     "execution_count": 40,
     "metadata": {},
     "output_type": "execute_result"
    }
   ],
   "source": [
    "len(df_np)"
   ]
  },
  {
   "cell_type": "code",
   "execution_count": 31,
   "id": "30cfcd9d",
   "metadata": {},
   "outputs": [],
   "source": [
    "# captura todo lo que sigue al primer ':' hasta el final\n",
    "df_np[\"NOMBRE_COM\"] = df_np[\"NOMBRE DEL PACIENTE\"].str.extract(r':\\s*(.*)$', expand=False).str.strip()\n",
    "\n"
   ]
  },
  {
   "cell_type": "markdown",
   "id": "12f34441",
   "metadata": {},
   "source": [
    "### Realizamos el muestreo de los niños de papel "
   ]
  },
  {
   "cell_type": "code",
   "execution_count": null,
   "id": "381780a0",
   "metadata": {},
   "outputs": [],
   "source": [
    "# Generamos el muestreo\n"
   ]
  }
 ],
 "metadata": {
  "kernelspec": {
   "display_name": "cuda",
   "language": "python",
   "name": "python3"
  },
  "language_info": {
   "codemirror_mode": {
    "name": "ipython",
    "version": 3
   },
   "file_extension": ".py",
   "mimetype": "text/x-python",
   "name": "python",
   "nbconvert_exporter": "python",
   "pygments_lexer": "ipython3",
   "version": "3.10.3"
  }
 },
 "nbformat": 4,
 "nbformat_minor": 5
}
